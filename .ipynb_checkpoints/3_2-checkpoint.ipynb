{
 "cells": [
  {
   "cell_type": "markdown",
   "id": "2b1b6902-c65d-4097-9dbd-c43ff9a2e0bf",
   "metadata": {},
   "source": [
    "John likes to travel. He has visited a lot of cities over many...\n",
    " John likes to travel. He has visited a lot of cities over many years. Whenever he visits a city, he takes a few photos and saves them on his computer. Each photo has a name with an extension (jpg\", \"png' or \"jpeg\") and there is a record of the name of the city where the photo was taken and the time and date the photo; for example: \"photo.jpg, Warsaw, 2013-09-05 14:08:15\". Note that, in some rare cases, photos from different locations may share the time and date, due to timezone differences. John notices that his way of filing photos on his computer has become a mess. He wants to reorganize the photos. First he decides to group the photos by city, then, within each such group, sort the photos by the time they were taken and finally assign consecutive natural numbers to the photos, starting from 1. Afterwards he intends to rename all the photos. The new name of each photo should begin with the name of the city followed by the number already assigned to that photo. The number of every photo in each group should have the same length (equal to the length of the largest number in this group); thus, John needs to add some leading zeros to the numbers. The new name of the photo should end with the extension, which should remain the same. Your task is to help John by finding the new name of each photo. Each of John's photos has the format: '<<photoname>>. <<extension>>, <<city_name>>, yyyy-mm-dd, hh:mm:ss\", where '<<photoname>>', '<<extension>>' and\", <<city_name>>' consist only of letters of the English alphabet \n",
    "\n",
    " \n",
    "\n",
    " and supply the name of the photo, the file name extension and the city name, respectively. Be aware that the names of the photos may not be unique. \n",
    "\n",
    "\n",
    "\n",
    "Write a function: \n",
    "\n",
    "Class  Solution( public String solution(String s); }\n",
    "\n",
    "\n",
    "\n",
    "that, given a string representing the list of M photos, returns the string representing the list of the new names of all photos (the order of photos should stay the same).\n",
    "\n",
    "For example, given a string: photo.jpg, Warsaw, 2013-09-05 14:08:15 john.png, London, 2015-06-20 15:13:22 myFriends.png, Warsaw, 2013-09-05 14:07:13 Eiffel.jpg, Paris, 2015-07-23 08:03:02 pisatower.jpg, Paris, 2015-07-22 23:59:59 BOB.jpg, London, 2015-08-05 00:02:03 notredame.png, Paris, 2015-09-01 12:00:00 me.jpg, Warsaw, 2013-09-06 15:40:22 a.png, Warsaw, 2016-02-13 13:33:50 b.jpg, Warsaw, 2016-01-02 15:12:22 c.jpg, Warsaw, 2016-01-02 14:34:30 d.jpg, Warsaw, 2016-01-02 15:15:01 e.png, Warsaw, 2016-01-02 09:49:09 f.png, Warsaw, 2016-01-02 10:55:32 g.jpg, Warsaw, 2016-02-29 22:13:11\n",
    "\n",
    " your function should return: \n",
    "\n",
    " Warsaw02.jpg London1.png \n",
    "\n",
    " \n",
    "\n",
    " your function should return:\n",
    "\n",
    "Warsaw02.jpg Londoni.png Warsaw01.png Paris2.jpg Paris1.jpg London2.jpg Paris3.png Warsaw03.jpg Warsaw09.png Warsaw07.jpg Warsaw06.jpg Warsaw08.jpg Warsaw04.png Warsaw05.png Warsaw10.jpg as there are ten photos taken in Warsaw (numbered from 01 to 10). two photos in London (numbered from 1 to 2) and three photos in Paris (numbered from 1 to 3). The new names of the photos are returned in the same order as in the given string. Assume that: \n",
    "\n",
    "·       M is an integer within the range (1..100);\n",
    "\n",
    "·        Each year is an integer within the range (2000..2020);\n",
    "\n",
    "·       Each line of the input string is of the format <<photoname>>.<<extension>>, <<city_name>>, yyyy-mm-dd hh:mm:ss' and lines are separated with newline characters; \n",
    "\n",
    "·        Each photo name (without extension}) and city name \n",
    "\n",
    " name consists only of at least 1 and at most 20 letters from the English alphabet; \n",
    "\n",
    "·       Each name of the city starts with a capital letters and is followed by lower case letters;\n",
    "\n",
    "·        No two photos from the same location share the same date and time; \n",
    "\n",
    "·       Each extension is \"jpg\", \"png\" or \"jpeg. In your solution, focus on correctness."
   ]
  },
  {
   "cell_type": "code",
   "execution_count": 1,
   "id": "4733dbd0-8f1e-454d-92ab-7bd103453172",
   "metadata": {},
   "outputs": [],
   "source": [
    "import re"
   ]
  },
  {
   "cell_type": "code",
   "execution_count": 2,
   "id": "4e3eb6f2-612e-4740-a8e9-319c713a90d4",
   "metadata": {},
   "outputs": [],
   "source": [
    "# inputs\n",
    "inputs = \"photo.jpg, Warsaw, 2013-09-05 14:08:15\\njohn.png, London, 2015-06-20 15:13:22\\nmyFriends.png, Warsaw, 2013-09-05 14:07:13\\nEiffel.jpg, Paris, 2015-07-23 08:03:02\\npisatower.jpg, Paris, 2015-07-22 23:59:59\\nBOB.jpg, London, 2015-08-05 00:02:03\\nnotredame.png, Paris, 2015-09-01 12:00:00\\nme.jpg, Warsaw, 2013-09-06 15:40:22\\na.png, Warsaw, 2016-02-13 13:33:50\\nb.jpg, Warsaw, 2016-01-02 15:12:22\\nc.jpg, Warsaw, 2016-01-02 14:34:30\\nd.jpg, Warsaw, 2016-01-02 15:15:01\\ne.png, Warsaw, 2016-01-02 09:49:09\\nf.png, Warsaw, 2016-01-02 10:55:32\\ng.jpg, Warsaw, 2016-02-29 22:13:11\""
   ]
  },
  {
   "cell_type": "code",
   "execution_count": 3,
   "id": "977a2b1e-214a-47cc-b420-871342bbb9d8",
   "metadata": {},
   "outputs": [],
   "source": [
    "def solution(input):\n",
    "    \n",
    "    # supporting data structures\n",
    "    dataMap = {}\n",
    "    \n",
    "    # split inputs by \"\\n\"\n",
    "    entries = input.split(\"\\n\")\n",
    "    \n",
    "    # result output vector\n",
    "    outVector = list(range(len(entries)))\n",
    "    \n",
    "    # list of all extensions\n",
    "    extentions = []\n",
    "    \n",
    "    # index for the occurence of a photo of a city in the string \"inputs\"\n",
    "    idx = 0\n",
    "    for string in entries:\n",
    "        # collecting all the extensions\n",
    "        extentions.append(re.findall(r'jpg|png|jpeg', string, re.IGNORECASE))\n",
    "        # splitting each photo entry\n",
    "        data = string.split(\",\")\n",
    "        # getting the name of a city\n",
    "        city = data[1].strip()\n",
    "        # getting the date and time of each photo\n",
    "        datetime = data[2].strip()\n",
    "        # creating a dictionary of photos organized as having cities as keys\n",
    "        if city in dataMap:\n",
    "            dataMap[city].append((datetime, idx))\n",
    "        else:\n",
    "            dataMap[city] = [(datetime, idx)]\n",
    "        idx += 1\n",
    "    for key in dataMap:\n",
    "        # sorting the dataMap by the datatime\n",
    "        dataMap[key].sort()\n",
    "    for key in dataMap:\n",
    "        # creating the name of a photo\n",
    "        length = len(str(len(dataMap[key])))\n",
    "        idxkey = 1\n",
    "        for i in dataMap[key]:\n",
    "            num = i[1]\n",
    "            newname = key + (length - len(str(idxkey)))*\"0\" + \\\n",
    "            str(idxkey) + \".\" + str(extentions[num][0])\n",
    "            outVector[num] = newname\n",
    "            idxkey += 1\n",
    "    return outVector"
   ]
  },
  {
   "cell_type": "code",
   "execution_count": 4,
   "id": "da10c21a-41af-4b82-9bc2-515556998c4a",
   "metadata": {},
   "outputs": [
    {
     "data": {
      "text/plain": [
       "['Warsaw02.jpg',\n",
       " 'London1.png',\n",
       " 'Warsaw01.png',\n",
       " 'Paris2.jpg',\n",
       " 'Paris1.jpg',\n",
       " 'London2.jpg',\n",
       " 'Paris3.png',\n",
       " 'Warsaw03.jpg',\n",
       " 'Warsaw09.png',\n",
       " 'Warsaw07.jpg',\n",
       " 'Warsaw06.jpg',\n",
       " 'Warsaw08.jpg',\n",
       " 'Warsaw04.png',\n",
       " 'Warsaw05.png',\n",
       " 'Warsaw10.jpg']"
      ]
     },
     "execution_count": 4,
     "metadata": {},
     "output_type": "execute_result"
    }
   ],
   "source": [
    "solution(inputs)"
   ]
  },
  {
   "cell_type": "code",
   "execution_count": null,
   "id": "c60102dc-0c3c-4976-b7af-54ab752ef9bc",
   "metadata": {},
   "outputs": [],
   "source": []
  }
 ],
 "metadata": {
  "kernelspec": {
   "display_name": "Python 3 (ipykernel)",
   "language": "python",
   "name": "python3"
  },
  "language_info": {
   "codemirror_mode": {
    "name": "ipython",
    "version": 3
   },
   "file_extension": ".py",
   "mimetype": "text/x-python",
   "name": "python",
   "nbconvert_exporter": "python",
   "pygments_lexer": "ipython3",
   "version": "3.10.4"
  }
 },
 "nbformat": 4,
 "nbformat_minor": 5
}
